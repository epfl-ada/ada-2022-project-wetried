{
 "cells": [
  {
   "cell_type": "markdown",
   "source": [
    "# Wikipedia Views Expansion"
   ],
   "metadata": {
    "collapsed": false
   }
  },
  {
   "cell_type": "markdown",
   "source": [
    "The goal of this notebook is to use the data from langviews to expand the data about the views on the environment topic to include data from 2015 to 2022 (instead of 2019 to 2021)."
   ],
   "metadata": {
    "collapsed": false
   }
  },
  {
   "cell_type": "markdown",
   "source": [
    "## Import"
   ],
   "metadata": {
    "collapsed": false
   }
  },
  {
   "cell_type": "code",
   "execution_count": 1,
   "outputs": [],
   "source": [
    "import numpy as np\n",
    "import pandas as pd\n",
    "import matplotlib\n",
    "import matplotlib.pyplot as plt\n",
    "import matplotlib.ticker as ticker\n",
    "import seaborn as sns\n",
    "import os\n",
    "import time\n",
    "from statsmodels.stats import diagnostic\n",
    "from scipy import stats\n",
    "import statsmodels.api as sm\n",
    "import statsmodels.formula.api as smf\n",
    "\n",
    "from selenium import webdriver\n",
    "from selenium.webdriver.common.by import By\n",
    "from selenium.webdriver.support.wait import WebDriverWait\n",
    "from selenium.webdriver.support import expected_conditions as EC"
   ],
   "metadata": {
    "collapsed": false
   }
  },
  {
   "cell_type": "markdown",
   "source": [
    "## Data loading"
   ],
   "metadata": {
    "collapsed": false
   }
  },
  {
   "cell_type": "code",
   "execution_count": 2,
   "outputs": [],
   "source": [
    "df = pd.read_csv('Data/topics_linked.csv.xz')"
   ],
   "metadata": {
    "collapsed": false
   }
  },
  {
   "cell_type": "code",
   "execution_count": 3,
   "outputs": [],
   "source": [
    "df_env = df[df[\"STEM.Earth and environment\"] == True]\n",
    "len(df_env)"
   ],
   "metadata": {
    "collapsed": false
   }
  },
  {
   "cell_type": "code",
   "execution_count": 4,
   "outputs": [],
   "source": [
    "df_env.loc[3722584:]"
   ],
   "metadata": {
    "collapsed": false
   }
  },
  {
   "cell_type": "markdown",
   "source": [
    "## Extraction"
   ],
   "metadata": {
    "collapsed": false
   }
  },
  {
   "cell_type": "code",
   "execution_count": 5,
   "outputs": [],
   "source": [
    "def init_driver():\n",
    "    \"\"\"\n",
    "    Init a firefox driver that download files in the folder 'Data/Additional/langviews/raw/'\n",
    "    :return: a firefox driver\n",
    "    \"\"\"\n",
    "    options = webdriver.FirefoxOptions()\n",
    "    options.binary_location = \"C:\\\\Program Files\\\\Mozilla Firefox\\\\firefox.exe\"\n",
    "    options.set_preference(\"browser.download.dir\", 'C:\\\\Users\\\\Rabid\\\\Desktop\\\\ada-project\\\\Data\\\\Additional\\\\langviews\\\\raw')\n",
    "\n",
    "    options.set_preference( \"browser.download.manager.showWhenStarting\", False )\n",
    "    options.set_preference( \"browser.download.folderList\", 2 )\n",
    "    options.set_preference( \"browser.download.useDownloadDir\", True )\n",
    "\n",
    "    options.set_preference(\"browser.helperApps.neverAsk.saveToDisk\", \"text/csv\")\n",
    "    options.set_preference(\"browser.helperApps.neverAsk.openFile\", \"text/csv\")\n",
    "\n",
    "    return webdriver.Firefox(executable_path='C:\\selenium\\geckodriver.exe', options=options)\n",
    "\n",
    "\n",
    "def download(driver, wiki_title):\n",
    "    \"\"\"\n",
    "    Download a csv containing the views day by day of the specified wikipedia page from 01-07-2015 to 20-11-2022\n",
    "    :param driver: a selenium firefox driver\n",
    "    :param wiki_title: the wikipedia page\n",
    "    \"\"\"\n",
    "    driver.get(\"https://pageviews.wmcloud.org/langviews/?project=en.wikipedia.org&platform=all-access&agent=user&start=2015-07-01&end=2022-11-20&sort=views&direction=1&view=list&page=\"+wiki_title)\n",
    "\n",
    "    button = WebDriverWait(driver, 20).until(\n",
    "        EC.visibility_of_element_located((By.XPATH, '//button[normalize-space()=\"Download\"]'))\n",
    "    )\n",
    "\n",
    "    button.click()\n",
    "\n",
    "    csv = driver.find_element(By.CLASS_NAME, 'download-csv')\n",
    "    csv.click()\n",
    "\n",
    "    time.sleep(1)\n",
    "\n",
    "\n",
    "def rename(new_name):\n",
    "    \"\"\"\n",
    "    Find a langviews csv in the 'Data/Additional/langviews/raw/' folder, rename it to the specified name and move the file to the folder 'Data/Additional/langviews/processed/'\n",
    "    :param new_name: the new name of the langviews csv\n",
    "    \"\"\"\n",
    "    files = os.listdir('Data/Additional/langviews/raw/')\n",
    "    for file in files:\n",
    "        if file.startswith('langviews'):\n",
    "            full_name = \"langviews-\"+new_name+\".csv\"\n",
    "            os.rename('Data/Additional/langviews/raw/'+file, 'Data/Additional/langviews/processed/'+full_name)\n",
    "            break"
   ],
   "metadata": {
    "collapsed": false
   }
  },
  {
   "cell_type": "code",
   "execution_count": 6,
   "outputs": [],
   "source": [
    "driver = init_driver()"
   ],
   "metadata": {
    "collapsed": false
   }
  },
  {
   "cell_type": "code",
   "execution_count": 7,
   "outputs": [
    {
     "data": {
      "text/plain": "'from selenium.common.exceptions import TimeoutException, ElementClickInterceptedException\\n\\nfor _, col in df_env.loc[3722584:].iterrows():\\n    title = col.loc[\"index\"]\\n    try:\\n        download(driver, title)\\n    except TimeoutException:\\n        print(\"Error with {}\".format(title))\\n    except ElementClickInterceptedException:\\n        print(\"Error with {}\".format(title))\\n\\n    rename(title.lower().replace(\":\", \"\").replace(\"?\", \"\").replace(\\'/\\', \\'_\\').replace(\\'\"\\', \"\"))'"
     },
     "execution_count": 7,
     "metadata": {},
     "output_type": "execute_result"
    }
   ],
   "source": [
    "from selenium.common.exceptions import TimeoutException, ElementClickInterceptedException\n",
    "\n",
    "for _, col in df_env.loc[3722584:].iterrows():\n",
    "    title = col.loc[\"index\"]\n",
    "    try:\n",
    "        download(driver, title)\n",
    "    except TimeoutException:\n",
    "        print(\"Error with {}\".format(title))\n",
    "    except ElementClickInterceptedException:\n",
    "        print(\"Error with {}\".format(title))\n",
    "\n",
    "    rename(title.lower().replace(\":\", \"\").replace(\"?\", \"\").replace('/', '_').replace('\"', \"\"))"
   ],
   "metadata": {
    "collapsed": false
   }
  },
  {
   "cell_type": "code",
   "execution_count": 8,
   "outputs": [],
   "source": [
    "driver.quit()"
   ],
   "metadata": {
    "collapsed": false
   }
  },
  {
   "cell_type": "markdown",
   "source": [
    "# Compilation"
   ],
   "metadata": {
    "collapsed": false
   }
  },
  {
   "cell_type": "markdown",
   "source": [
    "In this section, we compile the views from every environment related pages."
   ],
   "metadata": {
    "collapsed": false
   }
  },
  {
   "cell_type": "markdown",
   "source": [
    "## Useful functions"
   ],
   "metadata": {
    "collapsed": false
   }
  },
  {
   "cell_type": "code",
   "execution_count": 73,
   "outputs": [],
   "source": [
    "def process_langviews_data(path, columns_to_keep=None):\n",
    "    \"\"\"\n",
    "    Convert the csv generated by langviews for a particular wikipedia page into a usable dataframe keeping only the pages in the specified languages.\n",
    "    The resulting dataframe has a column per language and a new total column giving the total number of views across all the studied languages.\n",
    "    \"\"\"\n",
    "\n",
    "    data = pd.read_csv(path).transpose()\n",
    "    data.columns = data.iloc[0]\n",
    "    titles = data.iloc[1]\n",
    "    data.drop([\"Language\", \"Title\", \"Badges\"], inplace=True)\n",
    "\n",
    "    if columns_to_keep is None:\n",
    "        columns_to_keep = data.columns\n",
    "\n",
    "    columns = data.columns.intersection(columns_to_keep)\n",
    "    data = data[columns]\n",
    "\n",
    "    data[\"total\"] = data.sum(axis=1).astype(int)\n",
    "    data[\"date\"] = data.index\n",
    "    data[\"date\"] = pd.to_datetime(data[\"date\"])\n",
    "    # data[\"year\"] = data.apply(lambda x: x.date.year, axis=1)\n",
    "\n",
    "    return titles, data"
   ],
   "metadata": {
    "collapsed": false
   }
  },
  {
   "cell_type": "code",
   "execution_count": 10,
   "outputs": [],
   "source": [
    "# We restrict the page to the language studied in coronawiki\n",
    "languages = [\n",
    "    \"ja\",\n",
    "    \"it\",\n",
    "    \"da\",\n",
    "    \"tr\",\n",
    "    \"no\",\n",
    "    \"en\",\n",
    "    \"sr\",\n",
    "    \"sv\",\n",
    "    \"nl\",\n",
    "    \"de\",\n",
    "    \"fr\",\n",
    "    \"ca\",\n",
    "    \"ko\",\n",
    "    \"fi\",\n",
    "]"
   ],
   "metadata": {
    "collapsed": false
   }
  },
  {
   "cell_type": "markdown",
   "source": [
    "## Generation"
   ],
   "metadata": {
    "collapsed": false
   }
  },
  {
   "cell_type": "code",
   "execution_count": 79,
   "outputs": [],
   "source": [
    "files = os.listdir('Data/Additional/langviews/processed/')"
   ],
   "metadata": {
    "collapsed": false
   }
  },
  {
   "cell_type": "code",
   "execution_count": 80,
   "outputs": [],
   "source": [
    "columns = languages + ['total']\n",
    "\n",
    "def merge_views(total_df, df_to_add):\n",
    "    agg = total_df.merge(df_to_add, on='date', how='outer', suffixes=('', '_y')).fillna(0)\n",
    "\n",
    "    for col in columns:\n",
    "        if (col+'_y') in agg:\n",
    "            agg[col] = agg[col] + agg[col+'_y']\n",
    "            agg.drop(col+'_y', inplace=True, axis=1)\n",
    "\n",
    "    return agg"
   ],
   "metadata": {
    "collapsed": false
   }
  },
  {
   "cell_type": "code",
   "execution_count": 81,
   "outputs": [],
   "source": [
    "aggregation = pd.DataFrame(columns=languages + ['total', 'date'])"
   ],
   "metadata": {
    "collapsed": false
   }
  },
  {
   "cell_type": "code",
   "execution_count": 82,
   "outputs": [
    {
     "name": "stderr",
     "output_type": "stream",
     "text": [
      "C:\\Users\\Rabid\\AppData\\Local\\Temp\\ipykernel_1528\\2567292658.py:7: DtypeWarning: Columns (2) have mixed types. Specify dtype option on import or set low_memory=False.\n",
      "  data = pd.read_csv(path).transpose()\n"
     ]
    }
   ],
   "source": [
    "for file in files:\n",
    "    _, data = process_langviews_data('Data/Additional/langviews/processed/'+file, languages)\n",
    "    aggregation = merge_views(aggregation, data)\n",
    "\n",
    "aggregation.to_csv('Data/Additional/langviews/final/aggregated_views.csv', index=False)"
   ],
   "metadata": {
    "collapsed": false
   }
  },
  {
   "cell_type": "code",
   "execution_count": 95,
   "outputs": [
    {
     "data": {
      "text/plain": "            ja       it      da       tr      no         en       sr       sv  \\\n0     182122.0  77640.0  4067.0  16321.0  5386.0  1519066.0   2334.0  12743.0   \n1     201826.0  72749.0  3874.0  15493.0  5663.0  1438586.0   2310.0  13477.0   \n2     170885.0  68917.0  3758.0  15131.0  5297.0  1293716.0   1938.0  13601.0   \n3     154506.0  59069.0  3891.0  32832.0  5101.0  1167907.0   1860.0  16422.0   \n4     181196.0  67898.0  5367.0  18967.0  6428.0  1331215.0   2465.0  18411.0   \n...        ...      ...     ...      ...     ...        ...      ...      ...   \n2695  137863.0  83919.0  6451.0  36978.0  8582.0  1558245.0   9592.0  22963.0   \n2696  133494.0  82921.0  5805.0  39317.0  8255.0  1525641.0   9441.0  22762.0   \n2697  156458.0  72549.0  5385.0  39910.0  7559.0  1395392.0   8668.0  20617.0   \n2698  110291.0  71071.0  4349.0  32031.0  5803.0  1280768.0   7632.0  17542.0   \n2699  123332.0  85384.0  5613.0  41407.0  7168.0  1418026.0  10264.0  20283.0   \n\n           nl        de        fr       ca       ko       fi      total  \\\n0     32902.0  209406.0  124421.0   2601.0  14987.0   9054.0  2213050.0   \n1     30745.0  204013.0  114584.0   2876.0  13309.0   8739.0  2128244.0   \n2     25835.0  176506.0  105264.0   2321.0  15551.0   8254.0  1906974.0   \n3     26814.0  159996.0   99934.0   2328.0  12892.0   7924.0  1751476.0   \n4     35109.0  217275.0  112298.0   3086.0  14841.0  10258.0  2024814.0   \n...       ...       ...       ...      ...      ...      ...        ...   \n2695  36566.0  176873.0  173993.0  10700.0  14943.0  17428.0  2295096.0   \n2696  37995.0  176343.0  175445.0  10931.0  13706.0  17274.0  2259330.0   \n2697  33013.0  155686.0  145484.0   9180.0  13698.0  16618.0  2080217.0   \n2698  30480.0  143231.0  140873.0   5007.0  10185.0  13538.0  1872801.0   \n2699  34610.0  190498.0  170235.0   6979.0  12222.0  15121.0  2141142.0   \n\n           date  year  \n0    2015-07-01  2015  \n1    2015-07-02  2015  \n2    2015-07-03  2015  \n3    2015-07-04  2015  \n4    2015-07-05  2015  \n...         ...   ...  \n2695 2022-11-16  2022  \n2696 2022-11-17  2022  \n2697 2022-11-18  2022  \n2698 2022-11-19  2022  \n2699 2022-11-20  2022  \n\n[2700 rows x 17 columns]",
      "text/html": "<div>\n<style scoped>\n    .dataframe tbody tr th:only-of-type {\n        vertical-align: middle;\n    }\n\n    .dataframe tbody tr th {\n        vertical-align: top;\n    }\n\n    .dataframe thead th {\n        text-align: right;\n    }\n</style>\n<table border=\"1\" class=\"dataframe\">\n  <thead>\n    <tr style=\"text-align: right;\">\n      <th></th>\n      <th>ja</th>\n      <th>it</th>\n      <th>da</th>\n      <th>tr</th>\n      <th>no</th>\n      <th>en</th>\n      <th>sr</th>\n      <th>sv</th>\n      <th>nl</th>\n      <th>de</th>\n      <th>fr</th>\n      <th>ca</th>\n      <th>ko</th>\n      <th>fi</th>\n      <th>total</th>\n      <th>date</th>\n      <th>year</th>\n    </tr>\n  </thead>\n  <tbody>\n    <tr>\n      <th>0</th>\n      <td>182122.0</td>\n      <td>77640.0</td>\n      <td>4067.0</td>\n      <td>16321.0</td>\n      <td>5386.0</td>\n      <td>1519066.0</td>\n      <td>2334.0</td>\n      <td>12743.0</td>\n      <td>32902.0</td>\n      <td>209406.0</td>\n      <td>124421.0</td>\n      <td>2601.0</td>\n      <td>14987.0</td>\n      <td>9054.0</td>\n      <td>2213050.0</td>\n      <td>2015-07-01</td>\n      <td>2015</td>\n    </tr>\n    <tr>\n      <th>1</th>\n      <td>201826.0</td>\n      <td>72749.0</td>\n      <td>3874.0</td>\n      <td>15493.0</td>\n      <td>5663.0</td>\n      <td>1438586.0</td>\n      <td>2310.0</td>\n      <td>13477.0</td>\n      <td>30745.0</td>\n      <td>204013.0</td>\n      <td>114584.0</td>\n      <td>2876.0</td>\n      <td>13309.0</td>\n      <td>8739.0</td>\n      <td>2128244.0</td>\n      <td>2015-07-02</td>\n      <td>2015</td>\n    </tr>\n    <tr>\n      <th>2</th>\n      <td>170885.0</td>\n      <td>68917.0</td>\n      <td>3758.0</td>\n      <td>15131.0</td>\n      <td>5297.0</td>\n      <td>1293716.0</td>\n      <td>1938.0</td>\n      <td>13601.0</td>\n      <td>25835.0</td>\n      <td>176506.0</td>\n      <td>105264.0</td>\n      <td>2321.0</td>\n      <td>15551.0</td>\n      <td>8254.0</td>\n      <td>1906974.0</td>\n      <td>2015-07-03</td>\n      <td>2015</td>\n    </tr>\n    <tr>\n      <th>3</th>\n      <td>154506.0</td>\n      <td>59069.0</td>\n      <td>3891.0</td>\n      <td>32832.0</td>\n      <td>5101.0</td>\n      <td>1167907.0</td>\n      <td>1860.0</td>\n      <td>16422.0</td>\n      <td>26814.0</td>\n      <td>159996.0</td>\n      <td>99934.0</td>\n      <td>2328.0</td>\n      <td>12892.0</td>\n      <td>7924.0</td>\n      <td>1751476.0</td>\n      <td>2015-07-04</td>\n      <td>2015</td>\n    </tr>\n    <tr>\n      <th>4</th>\n      <td>181196.0</td>\n      <td>67898.0</td>\n      <td>5367.0</td>\n      <td>18967.0</td>\n      <td>6428.0</td>\n      <td>1331215.0</td>\n      <td>2465.0</td>\n      <td>18411.0</td>\n      <td>35109.0</td>\n      <td>217275.0</td>\n      <td>112298.0</td>\n      <td>3086.0</td>\n      <td>14841.0</td>\n      <td>10258.0</td>\n      <td>2024814.0</td>\n      <td>2015-07-05</td>\n      <td>2015</td>\n    </tr>\n    <tr>\n      <th>...</th>\n      <td>...</td>\n      <td>...</td>\n      <td>...</td>\n      <td>...</td>\n      <td>...</td>\n      <td>...</td>\n      <td>...</td>\n      <td>...</td>\n      <td>...</td>\n      <td>...</td>\n      <td>...</td>\n      <td>...</td>\n      <td>...</td>\n      <td>...</td>\n      <td>...</td>\n      <td>...</td>\n      <td>...</td>\n    </tr>\n    <tr>\n      <th>2695</th>\n      <td>137863.0</td>\n      <td>83919.0</td>\n      <td>6451.0</td>\n      <td>36978.0</td>\n      <td>8582.0</td>\n      <td>1558245.0</td>\n      <td>9592.0</td>\n      <td>22963.0</td>\n      <td>36566.0</td>\n      <td>176873.0</td>\n      <td>173993.0</td>\n      <td>10700.0</td>\n      <td>14943.0</td>\n      <td>17428.0</td>\n      <td>2295096.0</td>\n      <td>2022-11-16</td>\n      <td>2022</td>\n    </tr>\n    <tr>\n      <th>2696</th>\n      <td>133494.0</td>\n      <td>82921.0</td>\n      <td>5805.0</td>\n      <td>39317.0</td>\n      <td>8255.0</td>\n      <td>1525641.0</td>\n      <td>9441.0</td>\n      <td>22762.0</td>\n      <td>37995.0</td>\n      <td>176343.0</td>\n      <td>175445.0</td>\n      <td>10931.0</td>\n      <td>13706.0</td>\n      <td>17274.0</td>\n      <td>2259330.0</td>\n      <td>2022-11-17</td>\n      <td>2022</td>\n    </tr>\n    <tr>\n      <th>2697</th>\n      <td>156458.0</td>\n      <td>72549.0</td>\n      <td>5385.0</td>\n      <td>39910.0</td>\n      <td>7559.0</td>\n      <td>1395392.0</td>\n      <td>8668.0</td>\n      <td>20617.0</td>\n      <td>33013.0</td>\n      <td>155686.0</td>\n      <td>145484.0</td>\n      <td>9180.0</td>\n      <td>13698.0</td>\n      <td>16618.0</td>\n      <td>2080217.0</td>\n      <td>2022-11-18</td>\n      <td>2022</td>\n    </tr>\n    <tr>\n      <th>2698</th>\n      <td>110291.0</td>\n      <td>71071.0</td>\n      <td>4349.0</td>\n      <td>32031.0</td>\n      <td>5803.0</td>\n      <td>1280768.0</td>\n      <td>7632.0</td>\n      <td>17542.0</td>\n      <td>30480.0</td>\n      <td>143231.0</td>\n      <td>140873.0</td>\n      <td>5007.0</td>\n      <td>10185.0</td>\n      <td>13538.0</td>\n      <td>1872801.0</td>\n      <td>2022-11-19</td>\n      <td>2022</td>\n    </tr>\n    <tr>\n      <th>2699</th>\n      <td>123332.0</td>\n      <td>85384.0</td>\n      <td>5613.0</td>\n      <td>41407.0</td>\n      <td>7168.0</td>\n      <td>1418026.0</td>\n      <td>10264.0</td>\n      <td>20283.0</td>\n      <td>34610.0</td>\n      <td>190498.0</td>\n      <td>170235.0</td>\n      <td>6979.0</td>\n      <td>12222.0</td>\n      <td>15121.0</td>\n      <td>2141142.0</td>\n      <td>2022-11-20</td>\n      <td>2022</td>\n    </tr>\n  </tbody>\n</table>\n<p>2700 rows × 17 columns</p>\n</div>"
     },
     "execution_count": 95,
     "metadata": {},
     "output_type": "execute_result"
    }
   ],
   "source": [
    "aggregation"
   ],
   "metadata": {
    "collapsed": false
   }
  },
  {
   "cell_type": "code",
   "execution_count": 84,
   "outputs": [],
   "source": [
    "aggregation[\"year\"] = aggregation.apply(lambda x: x.date.year, axis=1)"
   ],
   "metadata": {
    "collapsed": false
   }
  },
  {
   "cell_type": "markdown",
   "source": [
    "## Visualisation"
   ],
   "metadata": {
    "collapsed": false
   }
  },
  {
   "cell_type": "code",
   "execution_count": 96,
   "outputs": [
    {
     "data": {
      "text/plain": "<AxesSubplot:xlabel='year', ylabel='total'>"
     },
     "execution_count": 96,
     "metadata": {},
     "output_type": "execute_result"
    },
    {
     "data": {
      "text/plain": "<Figure size 640x480 with 1 Axes>",
      "image/png": "[encoded data removed]"
     },
     "metadata": {},
     "output_type": "display_data"
    }
   ],
   "source": [
    "sns.boxplot(y=aggregation.total, x=aggregation.year)"
   ],
   "metadata": {
    "collapsed": false
   }
  }
 ],
 "metadata": {
  "kernelspec": {
   "display_name": "Python 3",
   "language": "python",
   "name": "python3"
  },
  "language_info": {
   "codemirror_mode": {
    "name": "ipython",
    "version": 2
   },
   "file_extension": ".py",
   "mimetype": "text/x-python",
   "name": "python",
   "nbconvert_exporter": "python",
   "pygments_lexer": "ipython2",
   "version": "2.7.6"
  }
 },
 "nbformat": 4,
 "nbformat_minor": 0
}
